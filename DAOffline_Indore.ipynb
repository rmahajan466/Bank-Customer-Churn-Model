{
  "nbformat": 4,
  "nbformat_minor": 0,
  "metadata": {
    "colab": {
      "provenance": [],
      "authorship_tag": "ABX9TyOj68gni82p7AK88ItuuhQr",
      "include_colab_link": true
    },
    "kernelspec": {
      "name": "python3",
      "display_name": "Python 3"
    },
    "language_info": {
      "name": "python"
    }
  },
  "cells": [
    {
      "cell_type": "markdown",
      "metadata": {
        "id": "view-in-github",
        "colab_type": "text"
      },
      "source": [
        "<a href=\"https://colab.research.google.com/github/rmahajan466/Bank-Customer-Churn-Model/blob/main/DAOffline_Indore.ipynb\" target=\"_parent\"><img src=\"https://colab.research.google.com/assets/colab-badge.svg\" alt=\"Open In Colab\"/></a>"
      ]
    },
    {
      "cell_type": "code",
      "execution_count": 1,
      "metadata": {
        "id": "zQZPpF1wqaMY"
      },
      "outputs": [],
      "source": [
        "#07/09/2025"
      ]
    },
    {
      "cell_type": "code",
      "source": [],
      "metadata": {
        "id": "goCqef6nrZ6O"
      },
      "execution_count": null,
      "outputs": []
    }
  ]
}